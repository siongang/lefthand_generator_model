{
 "cells": [
  {
   "cell_type": "code",
   "execution_count": null,
   "id": "cb7d0ca9",
   "metadata": {},
   "outputs": [],
   "source": [
    "# Environment\n",
    "import numpy as np\n",
    "import pandas as pd\n",
    "import matplotlib.pyplot as plt\n",
    "import warnings\n",
    "warnings.simplefilter(\"ignore\")"
   ]
  },
  {
   "cell_type": "code",
   "execution_count": null,
   "id": "5c4bdcac",
   "metadata": {
    "scrolled": true
   },
   "outputs": [],
   "source": [
    "# Data Loading - R \n",
    "path = \"xml_folder/working_txt/\"\n",
    "\n",
    "# Data Loading - R \n",
    "# Data_Right_5 = pd.read_csv(f\"{path}right_White_Christmas_-_piano.musicxml.txt\").to_numpy()\n",
    "# Data_Right_6 = pd.read_csv(f\"{path}right_The_Blue_Danube.musicxml.txt\").to_numpy()\n",
    "Data_Right_7 = pd.read_csv(f\"{path}right_Menuet_-_g-minor__J.S.Bach.musicxml.txt\").to_numpy()\n",
    "Data_Right_8 = pd.read_csv(f\"{path}right_sonatina.musicxml.txt\").to_numpy()\n",
    "Data_Right_9 = pd.read_csv(f\"{path}right_Invention_No_13_Bach.musicxml.txt\").to_numpy()\n",
    "Data_Right_10 = pd.read_csv(f\"{path}right_Sonatina_in_F_Major_Anh.5_No.2_Beethoven_.musicxml.txt\").to_numpy()\n"
   ]
  },
  {
   "cell_type": "code",
   "execution_count": null,
   "id": "f08b9f65",
   "metadata": {},
   "outputs": [],
   "source": [
    "Data_Right = np.concatenate((Data_Right_7, Data_Right_8, Data_Right_9, Data_Right_10), axis=0)\n",
    "Data_Right.shape"
   ]
  },
  {
   "cell_type": "code",
   "execution_count": null,
   "id": "0a1068ce",
   "metadata": {},
   "outputs": [],
   "source": [
    "# Data_Left_5 = pd.read_csv(f\"{path}left_White_Christmas_-_piano.musicxml.txt\").to_numpy()\n",
    "# Data_Left_6 = pd.read_csv(f\"{path}left_The_Blue_Danube.musicxml.txt\").to_numpy()\n",
    "Data_Left_7 = pd.read_csv(f\"{path}left_Menuet_-_g-minor__J.S.Bach.musicxml.txt\").to_numpy()\n",
    "Data_Left_8 = pd.read_csv(f\"{path}left_sonatina.musicxml.txt\").to_numpy()\n",
    "Data_Left_9 = pd.read_csv(f\"{path}left_Invention_No_13_Bach.musicxml.txt\").to_numpy()\n",
    "Data_Left_10 = pd.read_csv(f\"{path}left_Sonatina_in_F_Major_Anh.5_No.2_Beethoven_.musicxml.txt\").to_numpy()\n",
    "Data_Left = np.concatenate((  Data_Left_7, Data_Left_8, Data_Left_9, Data_Left_10), axis=0)\n",
    "Data_Left.shape\n",
    "\n"
   ]
  },
  {
   "cell_type": "code",
   "execution_count": null,
   "id": "5456eb71",
   "metadata": {},
   "outputs": [],
   "source": [
    "# Featuring Engineering\n",
    "from sklearn.preprocessing import OneHotEncoder\n",
    "\n",
    "OHE = OneHotEncoder(sparse_output=False)\n",
    "Data_Right_OHE = OHE.fit_transform(Data_Right)\n",
    "Data_Right_OHE.shape"
   ]
  },
  {
   "cell_type": "code",
   "execution_count": null,
   "id": "4d888d06",
   "metadata": {
    "scrolled": true
   },
   "outputs": [],
   "source": [
    "Data_Right_OHE[:1]"
   ]
  },
  {
   "cell_type": "code",
   "execution_count": null,
   "id": "3631e29e",
   "metadata": {
    "scrolled": true
   },
   "outputs": [],
   "source": [
    "# train_test split\n",
    "from sklearn.model_selection import train_test_split\n",
    "\n",
    "X_train, X_test, y_train, y_test = train_test_split(Data_Right_OHE, \n",
    "                                                    Data_Left, test_size=0.2)\n",
    "print(X_train.shape)\n",
    "print(X_test.shape)\n",
    "print(y_train.shape)\n",
    "print(y_test.shape)"
   ]
  },
  {
   "cell_type": "code",
   "execution_count": null,
   "id": "8c096c8b",
   "metadata": {
    "scrolled": true
   },
   "outputs": [],
   "source": [
    "# Model - KNN\n",
    "from sklearn.neighbors import KNeighborsClassifier\n",
    "KNN = KNeighborsClassifier(n_neighbors=2)\n",
    "\n",
    "Model_KNN = KNN.fit(X_train, y_train)\n",
    "Model_KNN"
   ]
  },
  {
   "cell_type": "code",
   "execution_count": null,
   "id": "b922afd3",
   "metadata": {},
   "outputs": [],
   "source": [
    "from sklearn.metrics import accuracy_score\n",
    "accuracy_score(y_test, Model_KNN.predict(X_test))"
   ]
  },
  {
   "cell_type": "code",
   "execution_count": null,
   "id": "029744ae",
   "metadata": {
    "scrolled": false
   },
   "outputs": [],
   "source": [
    "# Model - SVC\n",
    "from sklearn import svm\n",
    "SVC = svm.SVC()\n",
    "\n",
    "Model_SVC = SVC.fit(X_train, y_train)\n",
    "Model_SVC"
   ]
  },
  {
   "cell_type": "code",
   "execution_count": null,
   "id": "dce2775a",
   "metadata": {},
   "outputs": [],
   "source": [
    "accuracy_score(y_test, Model_SVC.predict(X_test))"
   ]
  },
  {
   "cell_type": "code",
   "execution_count": null,
   "id": "c93bcae8",
   "metadata": {
    "scrolled": true
   },
   "outputs": [],
   "source": [
    "# Model - SGDClassifier\n",
    "from sklearn.linear_model import SGDClassifier\n",
    "SGD = SGDClassifier()\n",
    "\n",
    "Model_SGD = SGD.fit(X_train, y_train)\n",
    "Model_SGD"
   ]
  },
  {
   "cell_type": "code",
   "execution_count": null,
   "id": "c27b21ab",
   "metadata": {
    "scrolled": true
   },
   "outputs": [],
   "source": [
    "accuracy_score(y_test, Model_SGD.predict(X_test))"
   ]
  },
  {
   "cell_type": "code",
   "execution_count": null,
   "id": "3ef65c66",
   "metadata": {},
   "outputs": [],
   "source": [
    "# Model - DecisionTreeClassifier\n",
    "from sklearn.tree import DecisionTreeClassifier\n",
    "DTC = DecisionTreeClassifier()\n",
    "\n",
    "Model_DTC = SGD.fit(X_train, y_train)\n",
    "Model_DTC"
   ]
  },
  {
   "cell_type": "code",
   "execution_count": null,
   "id": "7e178d49",
   "metadata": {
    "scrolled": true
   },
   "outputs": [],
   "source": [
    "accuracy_score(y_test, Model_DTC.predict(X_test))"
   ]
  },
  {
   "cell_type": "code",
   "execution_count": null,
   "id": "1b4066e5",
   "metadata": {
    "scrolled": true
   },
   "outputs": [],
   "source": [
    "# Model - RandomForestClassifier\n",
    "from sklearn.ensemble import RandomForestClassifier\n",
    "RFC = RandomForestClassifier()\n",
    "Model_RFC = RFC.fit(X_train, y_train)\n",
    "Model_RFC"
   ]
  },
  {
   "cell_type": "code",
   "execution_count": null,
   "id": "4a0f8420",
   "metadata": {
    "scrolled": true
   },
   "outputs": [],
   "source": [
    "accuracy_score(y_test, Model_RFC.predict(X_test))"
   ]
  },
  {
   "cell_type": "code",
   "execution_count": null,
   "id": "bb0602b7",
   "metadata": {},
   "outputs": [],
   "source": [
    "# Mode - Extremely Randomized Trees\n",
    "from sklearn.ensemble import ExtraTreesClassifier\n",
    "ETC = RandomForestClassifier()\n",
    "Model_ETC = ETC.fit(X_train, y_train)\n",
    "Model_ETC"
   ]
  },
  {
   "cell_type": "code",
   "execution_count": null,
   "id": "697ae50c",
   "metadata": {
    "scrolled": true
   },
   "outputs": [],
   "source": [
    "accuracy_score(y_test, Model_ETC.predict(X_test))"
   ]
  },
  {
   "cell_type": "code",
   "execution_count": null,
   "id": "b1c8c074",
   "metadata": {},
   "outputs": [],
   "source": [
    "# Model - Gradient Tree Boosting\n",
    "from sklearn.ensemble import GradientBoostingClassifier\n",
    "GBC = GradientBoostingClassifier()\n",
    "Model_GBC = GBC.fit(X_train, y_train)\n",
    "Model_GBC"
   ]
  },
  {
   "cell_type": "code",
   "execution_count": null,
   "id": "f9c70cbf",
   "metadata": {},
   "outputs": [],
   "source": [
    "accuracy_score(y_test, Model_GBC.predict(X_test))"
   ]
  },
  {
   "cell_type": "code",
   "execution_count": null,
   "id": "2e5d8f64",
   "metadata": {},
   "outputs": [],
   "source": [
    "from sklearn.ensemble import BaggingClassifier\n",
    "Bag = BaggingClassifier(KNeighborsClassifier(),\n",
    "                            max_samples=0.5, max_features=0.5)\n",
    "Model_Bag = Bag.fit(X_train, y_train)\n",
    "Model_Bag"
   ]
  },
  {
   "cell_type": "code",
   "execution_count": null,
   "id": "39c9089d",
   "metadata": {},
   "outputs": [],
   "source": [
    "accuracy_score(y_test, Model_Bag.predict(X_test))"
   ]
  },
  {
   "cell_type": "code",
   "execution_count": null,
   "id": "833a62da",
   "metadata": {
    "scrolled": true
   },
   "outputs": [],
   "source": [
    "# Model - AdaBoostClassifier\n",
    "from sklearn.ensemble import AdaBoostClassifier\n",
    "Ada = AdaBoostClassifier()\n",
    "Model_Ada = Ada.fit(X_train, y_train)\n",
    "Model_Ada"
   ]
  },
  {
   "cell_type": "code",
   "execution_count": null,
   "id": "b89ad0ef",
   "metadata": {},
   "outputs": [],
   "source": [
    "accuracy_score(y_test, Model_Ada.predict(X_test))"
   ]
  },
  {
   "cell_type": "code",
   "execution_count": null,
   "id": "06ea9aa9",
   "metadata": {
    "scrolled": false
   },
   "outputs": [],
   "source": [
    "%%time\n",
    "# Optimize - RFC\n",
    "from sklearn.model_selection import GridSearchCV\n",
    "\n",
    "parameters = {\"n_estimators\": [10, 20, 30, 40, 50, 60, 70, 80, 90, 100, 120, 140, 150],\n",
    "              \"criterion\": [\"gini\", \"entropy\", \"log_loss\"], \n",
    "              \"max_features\": [\"sqrt\", \"log2\", None]}\n",
    "GSCV = GridSearchCV(estimator=Model_RFC, param_grid=parameters)\n",
    "GSCV.fit(X_train, y_train)"
   ]
  },
  {
   "cell_type": "code",
   "execution_count": null,
   "id": "c22411fa",
   "metadata": {
    "scrolled": true
   },
   "outputs": [],
   "source": [
    "GSCV.best_estimator_"
   ]
  },
  {
   "cell_type": "code",
   "execution_count": null,
   "id": "1e585d0e",
   "metadata": {},
   "outputs": [],
   "source": [
    "GSCV.best_params_"
   ]
  },
  {
   "cell_type": "code",
   "execution_count": null,
   "id": "9d64bd93",
   "metadata": {},
   "outputs": [],
   "source": [
    "RFC_op = GSCV.best_estimator_\n",
    "Model_RFC_op = RFC_op.fit(X_train, y_train)\n",
    "accuracy_score(y_test, RFC_op.predict(X_test))"
   ]
  },
  {
   "cell_type": "code",
   "execution_count": null,
   "id": "a08c06cd",
   "metadata": {},
   "outputs": [],
   "source": [
    "# Saving Model\n",
    "from joblib import dump, load\n",
    "dump(Model_RFC_op, 'Jason_Model.joblib')"
   ]
  },
  {
   "cell_type": "code",
   "execution_count": null,
   "id": "0d2cabb8",
   "metadata": {},
   "outputs": [],
   "source": [
    "# Load Model\n",
    "Model = load('Jason_Model.joblib') "
   ]
  }
 ],
 "metadata": {
  "kernelspec": {
   "display_name": "Python 3 (ipykernel)",
   "language": "python",
   "name": "python3"
  },
  "language_info": {
   "codemirror_mode": {
    "name": "ipython",
    "version": 3
   },
   "file_extension": ".py",
   "mimetype": "text/x-python",
   "name": "python",
   "nbconvert_exporter": "python",
   "pygments_lexer": "ipython3",
   "version": "3.11.4"
  }
 },
 "nbformat": 4,
 "nbformat_minor": 5
}
