{
 "cells": [
  {
   "cell_type": "code",
   "execution_count": 1,
   "metadata": {},
   "outputs": [],
   "source": [
    "# Environment\n",
    "import numpy as np\n",
    "import pandas as pd\n",
    "import matplotlib.pyplot as plt\n",
    "import warnings\n",
    "warnings.simplefilter(\"ignore\")\n",
    "import pickle\n",
    "import utils\n"
   ]
  },
  {
   "cell_type": "code",
   "execution_count": 2,
   "metadata": {},
   "outputs": [],
   "source": [
    "# Load the model\n",
    "with open('model.pkl', 'rb') as model_file:\n",
    "    model = pickle.load(model_file)"
   ]
  },
  {
   "cell_type": "code",
   "execution_count": 3,
   "metadata": {},
   "outputs": [
    {
     "data": {
      "text/plain": [
       "12384"
      ]
     },
     "execution_count": 3,
     "metadata": {},
     "output_type": "execute_result"
    }
   ],
   "source": [
    "# load training data\n",
    "\n",
    "with open('training_input.pkl', 'rb') as input_file:\n",
    "    training_data = pickle.load(input_file)\n",
    "\n",
    "len(training_data)"
   ]
  },
  {
   "cell_type": "code",
   "execution_count": 4,
   "metadata": {},
   "outputs": [
    {
     "data": {
      "text/plain": [
       "384"
      ]
     },
     "execution_count": 4,
     "metadata": {},
     "output_type": "execute_result"
    }
   ],
   "source": [
    "\n",
    "path = \"xml_folder/working_txt/right/right_Menuet_-_g-minor__J.S.Bach.musicxml.txt\"\n",
    "P_Data_Right = utils.to_pd_single(path)\n",
    "\n",
    "input_data= []\n",
    "\n",
    "for notes in P_Data_Right:\n",
    "    input_data.extend(notes)\n",
    "\n",
    "len(input_data)"
   ]
  },
  {
   "cell_type": "code",
   "execution_count": 5,
   "metadata": {},
   "outputs": [
    {
     "name": "stdout",
     "output_type": "stream",
     "text": [
      "['F#3C4', 'A3', 'G5A#5', 'C4', 'C#5', 'E5G5', 'F#4D5', 'A4C#5', 'F5G5', 'C#4', 'C6', 'G4C5', 'E4G4', 'B4', 'B4G#5', 'D5F5', 'D#4', 'D#4F#4', 'G#5', 'E4C5', 'F4A4F5', 'G3', 'C5D5', 'C5D#5', 'G#3', 'E5G5C6', 'D4A#4', 'F3', 'A#3', 'F#5', 'C#4E4', 'z', 'C5A5', 'A4C5', 'A#4D5', 'G#4', 'B3G4', 'G#4B4', 'D3', 'D#5G5', 'D3B3', 'A3C4F4', 'E3G3', 'G#4B4E5', 'E4G#4', 'G4A#4', 'D4E4G#4', 'G5C6', 'F#5A5', 'B4D5', 'B3D4G4', 'C4A4', 'B3', 'A4D5F#5', 'A3F#4', 'F5A5', 'B4F5', 'G4C#5', 'F#5D6', 'C4F#4', 'F4B4', 'E3', 'B3F4', 'A3F4', 'D6', 'C4E4', 'D5F#5', 'E6', 'F#3', 'C4C5', 'E5A5', 'A5C6', 'E4G4C5', 'D#4A4', 'G4A4C#5', 'B5', 'D4F#4A4D5', 'A3D#4', 'C5E5', 'G4A#4E5', 'D4F4', 'C#5E5A5', 'F4G4', 'A4C#5E5A5', 'C#5E5', 'F6', 'G4D5', 'B3D4', 'B5D6', 'G4E5', 'F3D4', 'B4G5', 'G4B4', 'E5C6', 'G5G6', 'D4F#4', 'C#6', 'G5B5', 'D4A4', 'B4D5G5', 'A5F6', 'A4D5', 'F4A4', 'E3C4', 'C#5A5', 'G5A#5E6', 'G#5B5', 'D5B5', 'F#4A4']\n"
     ]
    }
   ],
   "source": [
    "temp = set(training_data)-set(input_data)\n",
    "\n",
    "missing_data= list(temp)\n",
    "print(missing_data)"
   ]
  },
  {
   "cell_type": "code",
   "execution_count": 6,
   "metadata": {},
   "outputs": [
    {
     "name": "stdout",
     "output_type": "stream",
     "text": [
      "['A#5', 'A#5', 'A#5', 'A#5', 'A5', 'A5', 'A5', 'A5', 'G5', 'G5', 'G5', 'G5', 'A5', 'A5', 'A5', 'A5', 'D5', 'D5', 'D5', 'D5', 'D5', 'D5', 'D5', 'D5', 'G5', 'G5', 'G5', 'G5', 'G4', 'G4', 'A4', 'A4', 'A#4', 'A#4', 'C5', 'C5', 'D5', 'D5', 'D5', 'D5', 'D5', 'D5', 'D5', 'D5', 'D5', 'D5', 'D5', 'D5', 'D#5', 'D#5', 'D#5', 'D#5', 'F5', 'F5', 'D#5', 'D#5', 'D5', 'D5', 'C5', 'C5', 'D5', 'D5', 'D5', 'D5', 'D#5', 'D#5', 'D5', 'D5', 'C5', 'C5', 'A#4', 'A#4', 'C5', 'C5', 'C5', 'C5', 'D5', 'D5', 'C5', 'C5', 'A#4', 'A#4', 'C5', 'C5', 'A4', 'A4', 'A4', 'A4', 'A4', 'A4', 'A4', 'A4', 'A4', 'A4', 'A4', 'A4', 'A#5', 'A#5', 'A#5', 'A#5', 'A5', 'A5', 'A5', 'A5', 'G5', 'G5', 'G5', 'G5', 'A5', 'A5', 'A5', 'A5', 'D5', 'D5', 'D5', 'D5', 'D5', 'D5', 'D5', 'D5', 'G5', 'G5', 'G5', 'G5', 'G4', 'G4', 'A4', 'A4', 'A#4', 'A#4', 'C5', 'C5', 'D5', 'D5', 'D5', 'D5', 'D5', 'D5', 'D5', 'D5', 'D5', 'D5', 'D5', 'D5', 'F5', 'F5', 'F5', 'F5', 'G5', 'G5', 'F5', 'F5', 'D#5', 'D#5', 'D5', 'D5', 'D#5', 'D#5', 'D#5', 'D#5', 'F5', 'F5', 'D#5', 'D#5', 'D5', 'D5', 'C5', 'C5', 'D5', 'D5', 'D5', 'D5', 'G5', 'G5', 'G5', 'G5', 'C5', 'C5', 'C5', 'C5', 'D4F4A#4', 'D4F4A#4', 'D4F4A#4', 'D4F4A#4', 'D4F4A#4', 'D4F4A#4', 'D4F4A#4', 'D4F4A#4', 'D4F4A#4', 'D4F4A#4', 'D4F4A#4', 'D4F4A#4', 'D5', 'D5', 'D5', 'D5', 'A#4', 'A#4', 'C5', 'C5', 'D5', 'D5', 'E5', 'E5', 'F5', 'F5', 'F5', 'F5', 'G5', 'G5', 'G5', 'G5', 'A5', 'A5', 'A5', 'A5', 'A#5', 'A#5', 'A#5', 'A#5', 'G5', 'G5', 'A5', 'A5', 'A#5', 'A#5', 'G5', 'G5', 'A5', 'A5', 'A5', 'A5', 'G5', 'G5', 'A5', 'A5', 'F5', 'F5', 'F5', 'F5', 'F4', 'F4', 'G4', 'G4', 'A4', 'A4', 'A#4', 'A#4', 'C5', 'C5', 'D5', 'D5', 'D#5', 'D#5', 'D#5', 'D#5', 'D5', 'D5', 'D5', 'D5', 'C5', 'C5', 'C5', 'C5', 'F5', 'F5', 'F5', 'F5', 'A#4', 'A#4', 'A#4', 'A#4', 'A4', 'A4', 'A4', 'A4', 'A#4', 'A#4', 'A#4', 'A#4', 'A#4', 'A#4', 'A#4', 'A#4', 'A#4', 'A#4', 'A#4', 'A#4', 'G4', 'G4', 'G4', 'G4', 'D5', 'D5', 'C5', 'C5', 'D5', 'D5', 'D5', 'D5', 'G4', 'G4', 'G4', 'G4', 'D#5', 'D#5', 'D5', 'D5', 'D#5', 'D#5', 'D#5', 'D#5', 'G4', 'G4', 'D5', 'D5', 'F#4', 'F#4', 'C5', 'C5', 'G4', 'G4', 'A#4', 'A#4', 'A4', 'A4', 'A4', 'A4', 'A4', 'A4', 'A4', 'A4', 'A4', 'A4', 'A4', 'A4', 'D4', 'D4', 'E4', 'E4', 'F#4', 'F#4', 'G4', 'G4', 'A4', 'A4', 'A#4', 'A#4', 'C5', 'C5', 'C5', 'C5', 'A#4', 'A#4', 'A#4', 'A#4', 'A4', 'A4', 'A4', 'A4', 'A#4', 'A#4', 'C5', 'D5', 'G4', 'G4', 'G4', 'G4', 'F#4', 'F#4', 'F#4', 'F#4', 'A#3D4G4', 'A#3D4G4', 'A#3D4G4', 'A#3D4G4', 'A#3D4G4', 'A#3D4G4', 'A#3D4G4', 'A#3D4G4', 'A#3D4G4', 'A#3D4G4', 'A#3D4G4', 'A#3D4G4', 'F#3C4', 'A3', 'G5A#5', 'C4', 'C#5', 'E5G5', 'F#4D5', 'A4C#5', 'F5G5', 'C#4', 'C6', 'G4C5', 'E4G4', 'B4', 'B4G#5', 'D5F5', 'D#4', 'D#4F#4', 'G#5', 'E4C5', 'F4A4F5', 'G3', 'C5D5', 'C5D#5', 'G#3', 'E5G5C6', 'D4A#4', 'F3', 'A#3', 'F#5', 'C#4E4', 'z', 'C5A5', 'A4C5', 'A#4D5', 'G#4', 'B3G4', 'G#4B4', 'D3', 'D#5G5', 'D3B3', 'A3C4F4', 'E3G3', 'G#4B4E5', 'E4G#4', 'G4A#4', 'D4E4G#4', 'G5C6', 'F#5A5', 'B4D5', 'B3D4G4', 'C4A4', 'B3', 'A4D5F#5', 'A3F#4', 'F5A5', 'B4F5', 'G4C#5', 'F#5D6', 'C4F#4', 'F4B4', 'E3', 'B3F4', 'A3F4', 'D6', 'C4E4', 'D5F#5', 'E6', 'F#3', 'C4C5', 'E5A5', 'A5C6', 'E4G4C5', 'D#4A4', 'G4A4C#5', 'B5', 'D4F#4A4D5', 'A3D#4', 'C5E5', 'G4A#4E5', 'D4F4', 'C#5E5A5', 'F4G4', 'A4C#5E5A5', 'C#5E5', 'F6', 'G4D5', 'B3D4', 'B5D6', 'G4E5', 'F3D4', 'B4G5', 'G4B4', 'E5C6', 'G5G6', 'D4F#4', 'C#6', 'G5B5', 'D4A4', 'B4D5G5', 'A5F6', 'A4D5', 'F4A4', 'E3C4', 'C#5A5', 'G5A#5E6', 'G#5B5', 'D5B5', 'F#4A4']\n"
     ]
    }
   ],
   "source": [
    "\n",
    "\n",
    "input_data.extend(missing_data)\n",
    "\n",
    "print(input_data)\n"
   ]
  },
  {
   "cell_type": "code",
   "execution_count": 7,
   "metadata": {},
   "outputs": [],
   "source": [
    "df_prediction = pd.DataFrame({'notes': input_data})"
   ]
  },
  {
   "cell_type": "code",
   "execution_count": 8,
   "metadata": {},
   "outputs": [
    {
     "data": {
      "text/plain": [
       "(493, 126)"
      ]
     },
     "execution_count": 8,
     "metadata": {},
     "output_type": "execute_result"
    }
   ],
   "source": [
    "# Featuring Engineering\n",
    "from sklearn.preprocessing import OneHotEncoder\n",
    "\n",
    "OHE = OneHotEncoder(sparse_output=False)\n",
    "Data_Right_OHE = OHE.fit_transform(df_prediction)\n",
    "Data_Right_OHE.shape"
   ]
  },
  {
   "cell_type": "code",
   "execution_count": 9,
   "metadata": {},
   "outputs": [],
   "source": [
    "left_predictions = model.predict(Data_Right_OHE)"
   ]
  },
  {
   "cell_type": "code",
   "execution_count": 10,
   "metadata": {},
   "outputs": [],
   "source": [
    "# decoding right hand input\n",
    "decode = OHE.inverse_transform(Data_Right_OHE)\n",
    "a = decode.reshape(-1)\n",
    "inputs = a"
   ]
  },
  {
   "cell_type": "code",
   "execution_count": 15,
   "metadata": {},
   "outputs": [
    {
     "data": {
      "text/html": [
       "<div>\n",
       "<style scoped>\n",
       "    .dataframe tbody tr th:only-of-type {\n",
       "        vertical-align: middle;\n",
       "    }\n",
       "\n",
       "    .dataframe tbody tr th {\n",
       "        vertical-align: top;\n",
       "    }\n",
       "\n",
       "    .dataframe thead th {\n",
       "        text-align: right;\n",
       "    }\n",
       "</style>\n",
       "<table border=\"1\" class=\"dataframe\">\n",
       "  <thead>\n",
       "    <tr style=\"text-align: right;\">\n",
       "      <th></th>\n",
       "      <th>L</th>\n",
       "      <th>R</th>\n",
       "    </tr>\n",
       "  </thead>\n",
       "  <tbody>\n",
       "    <tr>\n",
       "      <th>0</th>\n",
       "      <td>G3</td>\n",
       "      <td>A#5</td>\n",
       "    </tr>\n",
       "    <tr>\n",
       "      <th>1</th>\n",
       "      <td>G3</td>\n",
       "      <td>A#5</td>\n",
       "    </tr>\n",
       "    <tr>\n",
       "      <th>2</th>\n",
       "      <td>G3</td>\n",
       "      <td>A#5</td>\n",
       "    </tr>\n",
       "    <tr>\n",
       "      <th>3</th>\n",
       "      <td>G3</td>\n",
       "      <td>A#5</td>\n",
       "    </tr>\n",
       "    <tr>\n",
       "      <th>4</th>\n",
       "      <td>z</td>\n",
       "      <td>A5</td>\n",
       "    </tr>\n",
       "    <tr>\n",
       "      <th>...</th>\n",
       "      <td>...</td>\n",
       "      <td>...</td>\n",
       "    </tr>\n",
       "    <tr>\n",
       "      <th>488</th>\n",
       "      <td>A3</td>\n",
       "      <td>C#5A5</td>\n",
       "    </tr>\n",
       "    <tr>\n",
       "      <th>489</th>\n",
       "      <td>C3C4</td>\n",
       "      <td>G5A#5E6</td>\n",
       "    </tr>\n",
       "    <tr>\n",
       "      <th>490</th>\n",
       "      <td>C4D4</td>\n",
       "      <td>G#5B5</td>\n",
       "    </tr>\n",
       "    <tr>\n",
       "      <th>491</th>\n",
       "      <td>F#3</td>\n",
       "      <td>D5B5</td>\n",
       "    </tr>\n",
       "    <tr>\n",
       "      <th>492</th>\n",
       "      <td>z</td>\n",
       "      <td>F#4A4</td>\n",
       "    </tr>\n",
       "  </tbody>\n",
       "</table>\n",
       "<p>493 rows × 2 columns</p>\n",
       "</div>"
      ],
      "text/plain": [
       "        L        R\n",
       "0      G3      A#5\n",
       "1      G3      A#5\n",
       "2      G3      A#5\n",
       "3      G3      A#5\n",
       "4       z       A5\n",
       "..    ...      ...\n",
       "488    A3    C#5A5\n",
       "489  C3C4  G5A#5E6\n",
       "490  C4D4    G#5B5\n",
       "491   F#3     D5B5\n",
       "492     z    F#4A4\n",
       "\n",
       "[493 rows x 2 columns]"
      ]
     },
     "execution_count": 15,
     "metadata": {},
     "output_type": "execute_result"
    }
   ],
   "source": [
    "df_combined = utils.combine_data(left_predictions, inputs)\n",
    "df_combined"
   ]
  },
  {
   "cell_type": "code",
   "execution_count": 17,
   "metadata": {},
   "outputs": [
    {
     "ename": "AttributeError",
     "evalue": "'DataFrame' object has no attribute 'to_save'",
     "output_type": "error",
     "traceback": [
      "\u001b[1;31m---------------------------------------------------------------------------\u001b[0m",
      "\u001b[1;31mAttributeError\u001b[0m                            Traceback (most recent call last)",
      "Cell \u001b[1;32mIn[17], line 1\u001b[0m\n\u001b[1;32m----> 1\u001b[0m df_combined\u001b[39m.\u001b[39mto_save(\u001b[39m'\u001b[39m\u001b[39mpredict_restul.csv\u001b[39m\u001b[39m'\u001b[39m)\n",
      "File \u001b[1;32mc:\\Users\\siong\\anaconda3\\Lib\\site-packages\\pandas\\core\\generic.py:5902\u001b[0m, in \u001b[0;36mNDFrame.__getattr__\u001b[1;34m(self, name)\u001b[0m\n\u001b[0;32m   5895\u001b[0m \u001b[39mif\u001b[39;00m (\n\u001b[0;32m   5896\u001b[0m     name \u001b[39mnot\u001b[39;00m \u001b[39min\u001b[39;00m \u001b[39mself\u001b[39m\u001b[39m.\u001b[39m_internal_names_set\n\u001b[0;32m   5897\u001b[0m     \u001b[39mand\u001b[39;00m name \u001b[39mnot\u001b[39;00m \u001b[39min\u001b[39;00m \u001b[39mself\u001b[39m\u001b[39m.\u001b[39m_metadata\n\u001b[0;32m   5898\u001b[0m     \u001b[39mand\u001b[39;00m name \u001b[39mnot\u001b[39;00m \u001b[39min\u001b[39;00m \u001b[39mself\u001b[39m\u001b[39m.\u001b[39m_accessors\n\u001b[0;32m   5899\u001b[0m     \u001b[39mand\u001b[39;00m \u001b[39mself\u001b[39m\u001b[39m.\u001b[39m_info_axis\u001b[39m.\u001b[39m_can_hold_identifiers_and_holds_name(name)\n\u001b[0;32m   5900\u001b[0m ):\n\u001b[0;32m   5901\u001b[0m     \u001b[39mreturn\u001b[39;00m \u001b[39mself\u001b[39m[name]\n\u001b[1;32m-> 5902\u001b[0m \u001b[39mreturn\u001b[39;00m \u001b[39mobject\u001b[39m\u001b[39m.\u001b[39m\u001b[39m__getattribute__\u001b[39m(\u001b[39mself\u001b[39m, name)\n",
      "\u001b[1;31mAttributeError\u001b[0m: 'DataFrame' object has no attribute 'to_save'"
     ]
    }
   ],
   "source": [
    "df_combined.to_save('predict_result.csv')"
   ]
  }
 ],
 "metadata": {
  "kernelspec": {
   "display_name": "base",
   "language": "python",
   "name": "python3"
  },
  "language_info": {
   "codemirror_mode": {
    "name": "ipython",
    "version": 3
   },
   "file_extension": ".py",
   "mimetype": "text/x-python",
   "name": "python",
   "nbconvert_exporter": "python",
   "pygments_lexer": "ipython3",
   "version": "3.11.4"
  },
  "orig_nbformat": 4
 },
 "nbformat": 4,
 "nbformat_minor": 2
}
